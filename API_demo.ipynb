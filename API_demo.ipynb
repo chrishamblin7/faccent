{
 "cells": [
  {
   "cell_type": "markdown",
   "metadata": {},
   "source": [
    "#### quick start"
   ]
  },
  {
   "cell_type": "code",
   "execution_count": 1,
   "metadata": {},
   "outputs": [
    {
     "name": "stderr",
     "output_type": "stream",
     "text": [
      "/mnt/data/chris/dropbox/Research-Hamblin/Projects/faccent/env/lib/python3.7/site-packages/torch/cuda/__init__.py:132: UserWarning: \n",
      "    Found GPU3 Tesla K40c which is of cuda capability 3.5.\n",
      "    PyTorch no longer supports this GPU because it is too old.\n",
      "    The minimum cuda capability supported by this library is 3.7.\n",
      "    \n",
      "  warnings.warn(old_gpu_warn % (d, name, major, minor, min_arch // 10, min_arch % 10))\n"
     ]
    }
   ],
   "source": [
    "#load model\n",
    "import torch\n",
    "from faccent.modelzoo import inceptionv1\n",
    "\n",
    "DEVICE = 'cuda:0'\n",
    "model = inceptionv1(pretrained=True)\n",
    "_ = model.to(DEVICE).eval()\n",
    "# MODEL_INPUT_SIZE = model.model_input_size\n",
    "# MODEL_INPUT_RANGE = model.model_input_range\n",
    "# IMG_SIZE = (512,512)\n",
    "\n",
    "\n",
    "#labels for model\n",
    "with open('./faccent/modelzoo/inceptionv1/inception_labels.txt', 'r') as f:\n",
    "    category_targets= f.read().splitlines()\n"
   ]
  },
  {
   "cell_type": "code",
   "execution_count": 2,
   "metadata": {},
   "outputs": [],
   "source": [
    "#model"
   ]
  },
  {
   "cell_type": "code",
   "execution_count": 8,
   "metadata": {},
   "outputs": [],
   "source": [
    "#image to accentuate\n",
    "img_path = './test_images/iguana.jpg/'\n",
    "\n",
    "#feature to accentuate\n",
    "layer = 'softmax2_pre_activation_matmul'\n",
    "\n",
    "#label = 'monarch'\n",
    "label = 'loggerhead'\n",
    "unit = category_targets.index(label)"
   ]
  },
  {
   "cell_type": "code",
   "execution_count": null,
   "metadata": {},
   "outputs": [],
   "source": [
    "from faccent import render, param, transform, objectives\n",
    "\n",
    "obj = layer+':'+str(unit)\n",
    "imgs, img_trs, _, _ = render.render_vis(\n",
    "                                    model,\n",
    "                                    obj,\n",
    "                                    init_img = img_path,\n",
    "                                    accent_reg_layer = 'mixed3a'\n",
    "                                  )"
   ]
  },
  {
   "cell_type": "code",
   "execution_count": 10,
   "metadata": {},
   "outputs": [
    {
     "data": {
      "application/vnd.jupyter.widget-view+json": {
       "model_id": "9b92bf5f40304ae7968bbe5007daf5db",
       "version_major": 2,
       "version_minor": 0
      },
      "text/plain": [
       "interactive(children=(IntSlider(value=0, description='Opt Steps:', max=49), FloatSlider(value=100.0, descripti…"
      ]
     },
     "metadata": {},
     "output_type": "display_data"
    }
   ],
   "source": [
    "from faccent.utils import accent_widget\n",
    "\n",
    "\n",
    "accent_widget(imgs, img_trs)"
   ]
  }
 ],
 "metadata": {
  "kernelspec": {
   "display_name": "faccent",
   "language": "python",
   "name": "faccent"
  },
  "language_info": {
   "codemirror_mode": {
    "name": "ipython",
    "version": 3
   },
   "file_extension": ".py",
   "mimetype": "text/x-python",
   "name": "python",
   "nbconvert_exporter": "python",
   "pygments_lexer": "ipython3",
   "version": "3.7.13"
  }
 },
 "nbformat": 4,
 "nbformat_minor": 2
}
